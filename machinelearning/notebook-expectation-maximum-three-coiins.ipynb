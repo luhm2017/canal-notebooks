{
 "cells": [
  {
   "cell_type": "markdown",
   "metadata": {},
   "source": [
    "### The three coins problem\n",
    "1. A, B, and C are three coins, the front or back of A decides which one in B and C will be threw.\n",
    "2. The states of B or C, i.e., the observation states are set as Y.\n",
    "3. The states of A, i.e., the hidden states are set as Z.\n",
    "4. The theta = [pi, p, q] are paramters to be estimated.\n",
    "\n",
    "P(y|theta) = sum(P(y, z|theta)) = sum(P(z|theta)P(y|z,theta))\n",
    "           = pi*(p^y)*(1-p)^(1-y) + (1-pi)*q^y*(1-q)^(1-y)"
   ]
  },
  {
   "cell_type": "code",
   "execution_count": 1,
   "metadata": {
    "collapsed": true
   },
   "outputs": [],
   "source": [
    "import numpy as np"
   ]
  },
  {
   "cell_type": "code",
   "execution_count": 2,
   "metadata": {
    "collapsed": true
   },
   "outputs": [],
   "source": [
    "# Init\n",
    "Y = np.array([1, 1, 0, 1, 0, 0, 1, 0, 1, 1])"
   ]
  },
  {
   "cell_type": "code",
   "execution_count": 3,
   "metadata": {
    "collapsed": true
   },
   "outputs": [],
   "source": [
    "def step_epectation(pa, pb, pc, y):\n",
    "    mu = pa*(pb)**y*(1-pb)**(1-y) / (\n",
    "        pa*(pb)**y*(1-pb)**(1-y) + \n",
    "        (1-pa)*(pc)**y*(1-pc)**(1-y)\n",
    "        )\n",
    "    return mu"
   ]
  },
  {
   "cell_type": "code",
   "execution_count": 4,
   "metadata": {
    "collapsed": true
   },
   "outputs": [],
   "source": [
    "def step_maximization(mu, y):\n",
    "    \"\"\"The maximization step\"\"\"\n",
    "    pa = mu.mean()\n",
    "    pb = (mu*y).sum() / mu.sum()\n",
    "    pc = ((1-mu)*y).sum() / (1-mu).sum()\n",
    "    \n",
    "    return pa,pb,pc"
   ]
  },
  {
   "cell_type": "code",
   "execution_count": 5,
   "metadata": {},
   "outputs": [],
   "source": [
    "def estParam(pa, pb, pc, y, numIter = 10):\n",
    "    for i in range(numIter):\n",
    "        # step E\n",
    "        mu = step_epectation(pa, pb, pc, Y)\n",
    "        # step M\n",
    "        pa, pb, pc = step_maximization(mu, Y)\n",
    "    \n",
    "    return pa, pb, pc"
   ]
  },
  {
   "cell_type": "code",
   "execution_count": 6,
   "metadata": {},
   "outputs": [
    {
     "name": "stdout",
     "output_type": "stream",
     "text": [
      "0.5 0.6 0.6\n"
     ]
    }
   ],
   "source": [
    "# Calc\n",
    "numIter = 10\n",
    "pa = 0.5\n",
    "pb = 0.5\n",
    "pc = 0.5\n",
    "\n",
    "pa, pb, pc = estParam(pa,pb,pc,Y,numIter)\n",
    "print(pa, pb, pc)"
   ]
  },
  {
   "cell_type": "code",
   "execution_count": 7,
   "metadata": {},
   "outputs": [
    {
     "name": "stdout",
     "output_type": "stream",
     "text": [
      "0.5999999999999999 0.5999999999999999 0.6000000000000002\n"
     ]
    }
   ],
   "source": [
    "# Different initialization of parameters\n",
    "numIter = 10\n",
    "pa = 0.6\n",
    "pb = 0.5\n",
    "pc = 0.5\n",
    "\n",
    "pa, pb, pc = estParam(pa,pb,pc,Y,numIter)\n",
    "print(pa, pb, pc)"
   ]
  }
 ],
 "metadata": {
  "kernelspec": {
   "display_name": "Python 3",
   "language": "python",
   "name": "python3"
  },
  "language_info": {
   "codemirror_mode": {
    "name": "ipython",
    "version": 3
   },
   "file_extension": ".py",
   "mimetype": "text/x-python",
   "name": "python",
   "nbconvert_exporter": "python",
   "pygments_lexer": "ipython3",
   "version": "3.5.2"
  }
 },
 "nbformat": 4,
 "nbformat_minor": 2
}
