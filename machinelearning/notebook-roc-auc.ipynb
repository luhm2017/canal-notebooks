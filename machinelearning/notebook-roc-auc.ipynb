{
 "cells": [
  {
   "cell_type": "markdown",
   "metadata": {},
   "source": [
    "## A learning of roc curve for binary classification\n",
    "See my [blog](http://www.mazhixian.me/2018/03/11/understanding-of-auc-curve/) for detail"
   ]
  },
  {
   "cell_type": "code",
   "execution_count": 1,
   "metadata": {
    "collapsed": true
   },
   "outputs": [],
   "source": [
    "import matplotlib\n",
    "%matplotlib inline\n",
    "import matplotlib.pyplot as plt"
   ]
  },
  {
   "cell_type": "code",
   "execution_count": 2,
   "metadata": {
    "collapsed": true
   },
   "outputs": [],
   "source": [
    "import numpy as np"
   ]
  },
  {
   "cell_type": "code",
   "execution_count": 3,
   "metadata": {
    "collapsed": true
   },
   "outputs": [],
   "source": [
    "# Init\n",
    "labels = np.array([1,1,0,1,0,0,0,1,0,1,0]).astype(int)\n",
    "p = np.array([0.5, 0.6, 0.2, 0.9, 0.5, 0.3, 0.1, 0.7, 0.3, 0.9, 0.5])                 "
   ]
  },
  {
   "cell_type": "code",
   "execution_count": 4,
   "metadata": {
    "collapsed": true
   },
   "outputs": [],
   "source": [
    "# Calc tpr and fpr\n",
    "def calcmeasures(labels, p, thrs):\n",
    "    labels_est = np.zeros(labels.shape, dtype=int)\n",
    "    labels_est[p >= thrs] = 1\n",
    "    # calc TP\n",
    "    idx1 = np.where(labels == 1)[0]\n",
    "    idx2 = np.where(labels_est == 1)[0]\n",
    "    s_TP = len(np.intersect1d(idx1, idx2))\n",
    "    # TN\n",
    "    idx1 = np.where(labels == 0)[0]\n",
    "    idx2 = np.where(labels_est == 0)[0]\n",
    "    s_TN = len(np.intersect1d(idx1, idx2))\n",
    "    # FP\n",
    "    idx1 = np.where(labels == 0)[0]\n",
    "    idx2 = np.where(labels_est == 1)[0]\n",
    "    s_FP = len(np.intersect1d(idx1, idx2))\n",
    "    # FN\n",
    "    idx1 = np.where(labels == 1)[0]\n",
    "    idx2 = np.where(labels_est == 0)[0]\n",
    "    s_FN = len(np.intersect1d(idx1, idx2))\n",
    "    # tpr and fpr\n",
    "    tpr = s_TP / (s_TP + s_FN)\n",
    "    fpr = s_FP / (s_TN + s_FP)\n",
    "    \n",
    "    return tpr,fpr"
   ]
  },
  {
   "cell_type": "code",
   "execution_count": 5,
   "metadata": {},
   "outputs": [],
   "source": [
    "thrs = np.arange(1., 0.0-0.1, -0.1)\n",
    "# thrs = np.array([0.1, 0.3, 0.5, 0.6, 0.9])\n",
    "tpr = np.zeros(thrs.shape)\n",
    "fpr = np.zeros(thrs.shape)\n",
    "for i,t in enumerate(thrs):\n",
    "    tpr[i],fpr[i] = calcmeasures(labels, p, t)"
   ]
  },
  {
   "cell_type": "code",
   "execution_count": 6,
   "metadata": {},
   "outputs": [
    {
     "data": {
      "text/plain": [
       "(array([-0.2,  0. ,  0.2,  0.4,  0.6,  0.8,  1. ,  1.2]),\n",
       " <a list of 8 Text yticklabel objects>)"
      ]
     },
     "execution_count": 6,
     "metadata": {},
     "output_type": "execute_result"
    },
    {
     "data": {
      "image/png": "[encoded data removed]",
      "text/plain": [
       "<matplotlib.figure.Figure at 0x7f229a454630>"
      ]
     },
     "metadata": {},
     "output_type": "display_data"
    }
   ],
   "source": [
    "# Display results\n",
    "# plt.rcParams[\"figure.figsize\"] = [7.2, 5.0]\n",
    "\n",
    "plt.plot(fpr,tpr)\n",
    "\n",
    "plt.xlabel(\"False positive rate (FPR)\", fontsize=14)\n",
    "plt.ylabel(\"True positive rate (TPR)\", fontsize=14)\n",
    "plt.xticks(fontsize=14)\n",
    "plt.yticks(fontsize=14)\n",
    "# plt.savefig(\"fig_roc.png\", bbox_inches='tight', dpi=200)"
   ]
  },
  {
   "cell_type": "code",
   "execution_count": 7,
   "metadata": {},
   "outputs": [
    {
     "name": "stdout",
     "output_type": "stream",
     "text": [
      "[0.  0.4 0.4 0.4 0.6 0.8 1.  1.  1.  1.  1. ]\n"
     ]
    }
   ],
   "source": [
    "print(tpr)"
   ]
  },
  {
   "cell_type": "code",
   "execution_count": 8,
   "metadata": {},
   "outputs": [
    {
     "name": "stdout",
     "output_type": "stream",
     "text": [
      "[0.         0.         0.         0.         0.         0.\n",
      " 0.33333333 0.33333333 0.66666667 0.83333333 1.        ]\n"
     ]
    }
   ],
   "source": [
    "print(fpr)"
   ]
  },
  {
   "cell_type": "code",
   "execution_count": 9,
   "metadata": {
    "collapsed": true
   },
   "outputs": [],
   "source": [
    "## Calc auc\n",
    "def calcauc(fpr,tpr):\n",
    "    auc = (fpr[1:] - fpr[0:-1])*(tpr[0:-1]+tpr[1:])/2\n",
    "    return auc.sum()"
   ]
  },
  {
   "cell_type": "code",
   "execution_count": 10,
   "metadata": {},
   "outputs": [
    {
     "name": "stdout",
     "output_type": "stream",
     "text": [
      "AUC = 0.9666666666666667\n"
     ]
    }
   ],
   "source": [
    "auc = calcauc(fpr,tpr)\n",
    "print(\"AUC = {0}\".format(auc))"
   ]
  },
  {
   "cell_type": "markdown",
   "metadata": {},
   "source": [
    "###  By sklearn.metrics.auc"
   ]
  },
  {
   "cell_type": "code",
   "execution_count": 11,
   "metadata": {},
   "outputs": [
    {
     "data": {
      "text/plain": [
       "0.9666666666666667"
      ]
     },
     "execution_count": 11,
     "metadata": {},
     "output_type": "execute_result"
    }
   ],
   "source": [
    "from sklearn import metrics\n",
    "fpr, tpr, thresholds = metrics.roc_curve(labels+1, p, pos_label=2)\n",
    "metrics.auc(fpr, tpr)"
   ]
  }
 ],
 "metadata": {
  "kernelspec": {
   "display_name": "Python 3",
   "language": "python",
   "name": "python3"
  },
  "language_info": {
   "codemirror_mode": {
    "name": "ipython",
    "version": 3
   },
   "file_extension": ".py",
   "mimetype": "text/x-python",
   "name": "python",
   "nbconvert_exporter": "python",
   "pygments_lexer": "ipython3",
   "version": "3.5.2"
  }
 },
 "nbformat": 4,
 "nbformat_minor": 2
}
