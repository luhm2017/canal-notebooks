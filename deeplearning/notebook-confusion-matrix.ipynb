{
 "cells": [
  {
   "cell_type": "code",
   "execution_count": 1,
   "metadata": {
    "collapsed": true
   },
   "outputs": [],
   "source": [
    "# Confusion matrix"
   ]
  },
  {
   "cell_type": "code",
   "execution_count": 2,
   "metadata": {
    "collapsed": true
   },
   "outputs": [],
   "source": [
    "import matplotlib\n",
    "%matplotlib inline\n",
    "import matplotlib.pyplot as plt"
   ]
  },
  {
   "cell_type": "code",
   "execution_count": 3,
   "metadata": {
    "collapsed": true
   },
   "outputs": [],
   "source": [
    "import tensorflow as tf\n",
    "import numpy as np"
   ]
  },
  {
   "cell_type": "code",
   "execution_count": 4,
   "metadata": {
    "collapsed": true
   },
   "outputs": [],
   "source": [
    "# load result\n",
    "import pandas\n",
    "datapath = 'test.xlsx'\n",
    "datadict = pandas.read_excel(datapath)"
   ]
  },
  {
   "cell_type": "code",
   "execution_count": null,
   "metadata": {
    "collapsed": true
   },
   "outputs": [],
   "source": [
    "unlrg_path = "
   ]
  },
  {
   "cell_type": "code",
   "execution_count": 5,
   "metadata": {
    "collapsed": true
   },
   "outputs": [],
   "source": [
    "y_labl = np.array(datadict[\"Type_raw\"]) - 1\n",
    "y_pred = np.array(datadict[\"Type\"]) - 1\n",
    "# randomly generated a prediction for comparison\n",
    "y_random = np.random.randint(low=0, high=5, size=y_pred.shape, dtype=int)"
   ]
  },
  {
   "cell_type": "code",
   "execution_count": 6,
   "metadata": {
    "collapsed": true
   },
   "outputs": [],
   "source": [
    "labels = tf.placeholder(name=\"labels\",shape=[None,], dtype=tf.int32)\n",
    "predicts = tf.placeholder(name=\"predicts\", shape=[None,], dtype=tf.int32)"
   ]
  },
  {
   "cell_type": "code",
   "execution_count": 7,
   "metadata": {
    "collapsed": true
   },
   "outputs": [],
   "source": [
    "# get confusion matrix\n",
    "cm = tf.confusion_matrix(\n",
    "    labels=labels,\n",
    "    predictions=predicts,\n",
    "    num_classes=6)"
   ]
  },
  {
   "cell_type": "code",
   "execution_count": 8,
   "metadata": {
    "collapsed": true
   },
   "outputs": [],
   "source": [
    "sess = tf.InteractiveSession()\n",
    "sess.run(tf.global_variables_initializer())"
   ]
  },
  {
   "cell_type": "code",
   "execution_count": 9,
   "metadata": {},
   "outputs": [
    {
     "data": {
      "text/plain": [
       "<matplotlib.text.Text at 0x7f79e0e01b00>"
      ]
     },
     "execution_count": 9,
     "metadata": {},
     "output_type": "execute_result"
    },
    {
     "data": {
      "image/png": "[encoded data removed]",
      "text/plain": [
       "<matplotlib.figure.Figure at 0x7f79e0f6d3c8>"
      ]
     },
     "metadata": {},
     "output_type": "display_data"
    }
   ],
   "source": [
    "# display\n",
    "confmat1 = sess.run(cm, feed_dict={labels: y_labl, predicts: y_pred})\n",
    "confmat2 = sess.run(cm, feed_dict={labels: y_labl, predicts: y_random})\n",
    "\n",
    "from matplotlib import gridspec\n",
    "\n",
    "plt.rcParams[\"figure.figsize\"] = [12.0, 5.0]\n",
    "gs = gridspec.GridSpec(1, 2, width_ratios=[1,1])\n",
    "\n",
    "ax0 = plt.subplot(gs[0])\n",
    "h = ax0.imshow(np.sqrt(confmat1))\n",
    "plt.xlabel(\"Real labels\", fontsize=12)\n",
    "plt.ylabel(\"Predicted labels\", fontsize=12)\n",
    "plt.colorbar(h)\n",
    "acc1 = (y_pred-y_labl == 0).sum() / len(y_pred)\n",
    "plt.title(\"Machine classified: %.3f\" % acc1, fontsize=12)\n",
    "\n",
    "ax1 = plt.subplot(gs[1])\n",
    "h = ax1.imshow(np.sqrt(confmat2))\n",
    "plt.xlabel(\"Real labels\", fontsize=12)\n",
    "plt.ylabel(\"Predicted labels\", fontsize=12)\n",
    "plt.colorbar(h)\n",
    "acc2 = (y_random-y_labl == 0).sum() / len(y_pred)\n",
    "plt.title(\"Randomly generated: %.3f\" % acc2, fontsize=12)"
   ]
  }
 ],
 "metadata": {
  "kernelspec": {
   "display_name": "Python 3",
   "language": "python",
   "name": "python3"
  },
  "language_info": {
   "codemirror_mode": {
    "name": "ipython",
    "version": 3
   },
   "file_extension": ".py",
   "mimetype": "text/x-python",
   "name": "python",
   "nbconvert_exporter": "python",
   "pygments_lexer": "ipython3",
   "version": "3.5.2"
  }
 },
 "nbformat": 4,
 "nbformat_minor": 2
}
