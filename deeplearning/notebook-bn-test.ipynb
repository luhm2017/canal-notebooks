{
 "cells": [
  {
   "cell_type": "code",
   "execution_count": 1,
   "metadata": {
    "collapsed": true
   },
   "outputs": [],
   "source": [
    "# BN inference \n",
    "# https://github.com/soloice/mnist-bn/blob/master/mnist_bn.py"
   ]
  },
  {
   "cell_type": "code",
   "execution_count": 2,
   "metadata": {
    "collapsed": true
   },
   "outputs": [],
   "source": [
    "# Display the result\n",
    "import matplotlib\n",
    "matplotlib.use('Agg')\n",
    "%matplotlib inline\n",
    "import matplotlib.pyplot as plt"
   ]
  },
  {
   "cell_type": "code",
   "execution_count": 3,
   "metadata": {},
   "outputs": [
    {
     "name": "stderr",
     "output_type": "stream",
     "text": [
      "/home/mzx/.local/lib/python3.5/site-packages/h5py/__init__.py:34: FutureWarning: Conversion of the second argument of issubdtype from `float` to `np.floating` is deprecated. In future, it will be treated as `np.float64 == np.dtype(float).type`.\n",
      "  from ._conv import register_converters as _register_converters\n"
     ]
    }
   ],
   "source": [
    "import os\n",
    "import time\n",
    "import numpy as np\n",
    "import tensorflow as tf\n",
    "import tensorflow.contrib.layers as layers"
   ]
  },
  {
   "cell_type": "code",
   "execution_count": 4,
   "metadata": {},
   "outputs": [
    {
     "name": "stdout",
     "output_type": "stream",
     "text": [
      "Extracting MNIST_data/train-images-idx3-ubyte.gz\n",
      "Extracting MNIST_data/train-labels-idx1-ubyte.gz\n",
      "Extracting MNIST_data/t10k-images-idx3-ubyte.gz\n",
      "Extracting MNIST_data/t10k-labels-idx1-ubyte.gz\n"
     ]
    }
   ],
   "source": [
    "# Step1 load MNITST data\n",
    "from tensorflow.examples.tutorials.mnist import input_data\n",
    "mnist = input_data.read_data_sets(\"MNIST_data\", \n",
    "                                  one_hot=True,\n",
    "                                  validation_size=2000)"
   ]
  },
  {
   "cell_type": "code",
   "execution_count": 5,
   "metadata": {
    "collapsed": true
   },
   "outputs": [],
   "source": [
    "def variable_summaries(var):\n",
    "  \"\"\"Attach a lot of summaries to a Tensor (for TensorBoard visualization).\"\"\"\n",
    "  with tf.name_scope('summaries'):\n",
    "    mean = tf.reduce_mean(var)\n",
    "    tf.summary.scalar('mean', mean)\n",
    "    with tf.name_scope('stddev'):\n",
    "      stddev = tf.sqrt(tf.reduce_mean(tf.square(var - mean)))\n",
    "    tf.summary.scalar('stddev', stddev)\n",
    "    tf.summary.scalar('max', tf.reduce_max(var))\n",
    "    tf.summary.scalar('min', tf.reduce_min(var))\n",
    "    tf.summary.histogram('histogram', var)"
   ]
  },
  {
   "cell_type": "code",
   "execution_count": 6,
   "metadata": {
    "collapsed": true
   },
   "outputs": [],
   "source": [
    "def weight_variable(shape):\n",
    "    initial = tf.truncated_normal(shape, stddev=0.1)\n",
    "    return tf.Variable(initial)\n",
    "\n",
    "def bias_variable(shape):\n",
    "    initial = tf.constant(0.1, shape=shape)\n",
    "    return tf.Variable(initial)"
   ]
  },
  {
   "cell_type": "code",
   "execution_count": 7,
   "metadata": {
    "collapsed": true
   },
   "outputs": [],
   "source": [
    "def nn_layer(x, l_in, l_out, l_name, \n",
    "             act_fn, BN_flag=True, is_training=None):\n",
    "    with tf.name_scope(l_name):\n",
    "        with tf.name_scope('weights'):\n",
    "            W = weight_variable(shape=[l_in, l_out])\n",
    "            variable_summaries(W)\n",
    "        with tf.name_scope('biases'):\n",
    "            b = bias_variable(shape=[l_out])\n",
    "            variable_summaries(b)\n",
    "        with tf.name_scope('Wx_plus_b'):\n",
    "            x_h = tf.matmul(x, W) + b\n",
    "            tf.summary.histogram('x_h', x_h)\n",
    "        if BN_flag: \n",
    "            with tf.name_scope('BatchNorm'):  \n",
    "                y = layers.batch_norm(\n",
    "                    x_h,\n",
    "                    center=True,\n",
    "                    scale=True,\n",
    "                    is_training=is_training)\n",
    "                tf.summary.histogram('y', y)\n",
    "            with tf.name_scope('activation'):\n",
    "                y_act = act_fn(y)\n",
    "                tf.summary.histogram('activation', y_act)\n",
    "        else:\n",
    "            with tf.name_scope('activation'):\n",
    "                y_act = act_fn(x_h)\n",
    "                tf.summary.histogram('activation', y_act)\n",
    "   \n",
    "    return y_act  "
   ]
  },
  {
   "cell_type": "code",
   "execution_count": 8,
   "metadata": {
    "collapsed": true
   },
   "outputs": [],
   "source": [
    "def dropout_layer(layer, keep_prob):\n",
    "    with tf.name_scope('dropout'):\n",
    "        y_dropout = tf.nn.dropout(layer, keep_prob)\n",
    "    return y_dropout"
   ]
  },
  {
   "cell_type": "code",
   "execution_count": 9,
   "metadata": {
    "collapsed": true
   },
   "outputs": [],
   "source": [
    "# Build a softmax regression model\n",
    "# Placeholders\n",
    "x = tf.placeholder(tf.float32, shape=[None, 784])\n",
    "y_ = tf.placeholder(tf.float32, shape=[None, 10]) # one-hot 10-dimensional vector\n",
    "with tf.name_scope('dropout'):\n",
    "    keep_prob = tf.placeholder(tf.float32)\n",
    "    tf.summary.scalar('dropout_keep_probability', keep_prob)\n",
    "is_training = tf.placeholder(tf.bool, name='is_training')"
   ]
  },
  {
   "cell_type": "code",
   "execution_count": 10,
   "metadata": {
    "collapsed": true
   },
   "outputs": [],
   "source": [
    "# Layers\n",
    "# Refer to tf.nn.moments\n",
    "# FC1\n",
    "l_FC1 = 512\n",
    "y_FC1 = nn_layer(x=x, l_in = 784, l_out=512, \n",
    "                 l_name='FC1',\n",
    "                 act_fn=tf.nn.relu, \n",
    "                 BN_flag=True,\n",
    "                 is_training=is_training)\n",
    "y_FC1_drop = dropout_layer(y_FC1, keep_prob)"
   ]
  },
  {
   "cell_type": "code",
   "execution_count": 11,
   "metadata": {
    "collapsed": true
   },
   "outputs": [],
   "source": [
    "# FC2\n",
    "l_FC2 = 256\n",
    "y_FC2 = nn_layer(x=y_FC1_drop, l_in = l_FC1, \n",
    "                 l_out=l_FC2, l_name='FC2',\n",
    "                 act_fn=tf.nn.relu, \n",
    "                 BN_flag=True,\n",
    "                 is_training=is_training)\n",
    "y_FC2_drop = dropout_layer(y_FC2, keep_prob)"
   ]
  },
  {
   "cell_type": "code",
   "execution_count": 12,
   "metadata": {
    "collapsed": true
   },
   "outputs": [],
   "source": [
    "# FC3\n",
    "l_FC3 = 128\n",
    "y_FC3 = nn_layer(x=y_FC2_drop, l_in = l_FC2, \n",
    "                 l_out=l_FC3, l_name='FC3',\n",
    "                 act_fn=tf.nn.relu, \n",
    "                 BN_flag=True,\n",
    "                 is_training=is_training)\n",
    "y_FC3_drop = dropout_layer(y_FC3, keep_prob)"
   ]
  },
  {
   "cell_type": "code",
   "execution_count": 13,
   "metadata": {
    "collapsed": true
   },
   "outputs": [],
   "source": [
    "# softmax\n",
    "l_s = 10\n",
    "y = nn_layer(x=y_FC3_drop, l_in = l_FC3, \n",
    "             l_out=l_s, l_name='softmax',\n",
    "             act_fn=tf.nn.tanh, BN_flag=False)"
   ]
  },
  {
   "cell_type": "code",
   "execution_count": 14,
   "metadata": {},
   "outputs": [
    {
     "data": {
      "text/plain": [
       "<tf.Tensor 'loss_1:0' shape=() dtype=string>"
      ]
     },
     "execution_count": 14,
     "metadata": {},
     "output_type": "execute_result"
    }
   ],
   "source": [
    "# loss function\n",
    "with tf.name_scope('loss'):\n",
    "    cross_entropy = tf.reduce_mean(\n",
    "        tf.nn.softmax_cross_entropy_with_logits(labels=y_, logits=y))\n",
    "tf.summary.scalar('loss', cross_entropy)"
   ]
  },
  {
   "cell_type": "code",
   "execution_count": 15,
   "metadata": {
    "collapsed": true
   },
   "outputs": [],
   "source": [
    "# learning rate\n",
    "with tf.name_scope('learning_rate'):\n",
    "    init_lr = tf.placeholder(tf.float32, name='LR')\n",
    "    global_step = tf.placeholder(tf.float32, name=\"global_step\")\n",
    "    decay_step = tf.placeholder(tf.float32, name=\"decay_step\")\n",
    "    decay_rate = tf.placeholder(tf.float32, name=\"decay_rate\")\n",
    "    learning_rate = tf.train.exponential_decay(\n",
    "        learning_rate = init_lr ,\n",
    "        global_step = global_step,\n",
    "        decay_steps = decay_step,\n",
    "        decay_rate = decay_rate,\n",
    "        staircase=False,\n",
    "        name=None)   "
   ]
  },
  {
   "cell_type": "code",
   "execution_count": 16,
   "metadata": {},
   "outputs": [
    {
     "data": {
      "text/plain": [
       "<tf.Tensor 'accuracy_1:0' shape=() dtype=string>"
      ]
     },
     "execution_count": 16,
     "metadata": {},
     "output_type": "execute_result"
    }
   ],
   "source": [
    "# Accuracy\n",
    "with tf.name_scope('accuracy'):\n",
    "    with tf.name_scope('correct_prediction'):\n",
    "        correct_prediction = tf.equal(\n",
    "            tf.argmax(y, 1), tf.argmax(y_, 1))\n",
    "    with tf.name_scope('accuracy'):\n",
    "        accuracy = tf.reduce_mean(tf.cast(correct_prediction, tf.float32))\n",
    "tf.summary.scalar('accuracy', accuracy)"
   ]
  },
  {
   "cell_type": "code",
   "execution_count": 17,
   "metadata": {},
   "outputs": [],
   "source": [
    "# Merge all the summaries and write to logdir\n",
    "logdir = './log'\n",
    "if not os.path.exists(logdir):\n",
    "    os.mkdir(logdir)\n",
    "merged = tf.summary.merge_all()\n",
    "# Initialize the variables\n",
    "sess = tf.InteractiveSession()\n",
    "sess.run(tf.global_variables_initializer())\n",
    "train_writer = tf.summary.FileWriter(logdir + '/train',\n",
    "                                      sess.graph)\n",
    "val_writer = tf.summary.FileWriter(logdir + '/validation',\n",
    "                                   sess.graph)\n",
    "test_writer = tf.summary.FileWriter(logdir + '/test',\n",
    "                                   sess.graph)"
   ]
  },
  {
   "cell_type": "code",
   "execution_count": 18,
   "metadata": {
    "collapsed": true
   },
   "outputs": [],
   "source": [
    "def feed_dict(train,batchsize=100,drop=0.5, lr_dict=None):\n",
    "    \"\"\"Make a TensorFlow feed_dict: maps data onto Tensor placeholders.\"\"\"\n",
    "    if train:\n",
    "        xs, ys = mnist.train.next_batch(batchsize)\n",
    "        f_dict = {x: xs, y_: ys, \n",
    "                  keep_prob: drop, \n",
    "                  is_training: True}\n",
    "        f_dict.update(lr_dict)\n",
    "    else:    \n",
    "        # validation\n",
    "        x_val,y_val = mnist.validation.images,mnist.validation.labels\n",
    "        f_dict = {x: x_val,y_: y_val,\n",
    "                  keep_prob: 1.0,\n",
    "                  is_training: False}\n",
    "    return f_dict"
   ]
  },
  {
   "cell_type": "code",
   "execution_count": 19,
   "metadata": {
    "collapsed": true
   },
   "outputs": [],
   "source": [
    "def test_dict():\n",
    "    xs, ys = mnist.test.images, mnist.test.labels\n",
    "    f_dict = {x: xs, y_: ys, \n",
    "              keep_prob:1.0,\n",
    "              is_training: False}\n",
    "    return f_dict"
   ]
  },
  {
   "cell_type": "code",
   "execution_count": 20,
   "metadata": {},
   "outputs": [],
   "source": [
    "# Train step \n",
    "# note: should add update_ops to the train graph\n",
    "update_ops = tf.get_collection(tf.GraphKeys.UPDATE_OPS)\n",
    "with tf.control_dependencies(update_ops):\n",
    "    with tf.name_scope('train'):\n",
    "        train_step = tf.train.GradientDescentOptimizer(learning_rate).minimize(cross_entropy) "
   ]
  },
  {
   "cell_type": "code",
   "execution_count": 21,
   "metadata": {},
   "outputs": [
    {
     "name": "stdout",
     "output_type": "stream",
     "text": [
      "[2018-01-25: 16:50:34]: Epochs    Trn_loss    Val_loss    Trn_acc    Val_acc    Test_acc\n",
      "[2018-01-25: 16:50:39]: 0    2.3478    2.1342    0.1334    0.3065    0.3038\n",
      "[2018-01-25: 16:51:24]: 10    1.4750    1.2748    0.6289    0.8210    0.8374\n",
      "[2018-01-25: 16:52:08]: 20    1.2998    1.1450    0.7294    0.8495    0.8713\n",
      "[2018-01-25: 16:52:52]: 30    1.2208    1.0822    0.7720    0.8685    0.8908\n",
      "[2018-01-25: 16:53:37]: 40    1.1721    1.0446    0.7947    0.8865    0.9018\n",
      "[2018-01-25: 16:54:21]: 50    1.1392    1.0150    0.8111    0.8985    0.9089\n",
      "[2018-01-25: 16:55:05]: 60    1.1107    0.9890    0.8298    0.9080    0.9154\n",
      "[2018-01-25: 16:55:49]: 70    1.0872    0.9713    0.8429    0.9110    0.9193\n",
      "[2018-01-25: 16:56:34]: 80    1.0696    0.9592    0.8502    0.9155    0.9224\n",
      "[2018-01-25: 16:57:17]: 90    1.0580    0.9479    0.8571    0.9205    0.9256\n"
     ]
    }
   ],
   "source": [
    "# Training the model by repeatedly running train_step\n",
    "import time \n",
    "epochs = 100\n",
    "batchsize= 100\n",
    "# num_batches = mnist.train.images.shape[0] // batchsize\n",
    "num_batches = 200\n",
    "\n",
    "lr_init = 0.01\n",
    "d_rate = 0.9\n",
    "\n",
    "x_epoch = np.arange(0,epochs,1)\n",
    "y_loss_trn = np.zeros(x_epoch.shape)\n",
    "y_acc_trn = np.zeros(x_epoch.shape)\n",
    "y_loss_val = np.zeros(x_epoch.shape)\n",
    "y_acc_val = np.zeros(x_epoch.shape)\n",
    "y_acc_test = np.zeros(x_epoch.shape)\n",
    "\n",
    "# Init all variables\n",
    "timestamp = time.strftime('%Y-%m-%d: %H:%M:%S', time.localtime(time.time()))\n",
    "print(\"[%s]: Epochs    Trn_loss    Val_loss    Trn_acc    Val_acc    Test_acc\" % (timestamp))\n",
    "for i in range(epochs):\n",
    "    lr_dict = {init_lr: lr_init, global_step:i,\n",
    "               decay_step: i, decay_step: batchsize,\n",
    "               decay_rate: d_rate}\n",
    "    loss_trn_all = 0.0\n",
    "    acc_trn_all = 0.0\n",
    "    for b in range(num_batches):\n",
    "        train_dict = feed_dict(True,lr_dict=lr_dict)\n",
    "        # train\n",
    "        summary_trn, _, acc_trn, loss_trn = sess.run(\n",
    "            [merged, train_step, accuracy, cross_entropy], \n",
    "            feed_dict=train_dict)\n",
    "        loss_trn_all += loss_trn\n",
    "        acc_trn_all += acc_trn\n",
    "    \n",
    "    y_loss_trn[i] = loss_trn_all / num_batches\n",
    "    y_acc_trn[i] = acc_trn_all / num_batches\n",
    "    train_writer.add_summary(summary_trn, i)\n",
    "    # validation\n",
    "    val_dict = feed_dict(False)\n",
    "    summary_val, y_acc_val[i], y_loss_val[i] = sess.run(\n",
    "        [merged, accuracy, cross_entropy],feed_dict=val_dict)\n",
    "    val_writer.add_summary(summary_val, i)\n",
    "    summary, y_acc_test[i] = sess.run(\n",
    "        [merged, accuracy],feed_dict=test_dict())\n",
    "    test_writer.add_summary(summary, i)\n",
    "    if i % 10 == 0:\n",
    "        timestamp = time.strftime('%Y-%m-%d: %H:%M:%S', time.localtime(time.time()))\n",
    "        print('[%s]: %d    %.4f    %.4f    %.4f    %.4f    %.4f' % (timestamp, i, \n",
    "                                                                    y_loss_trn[i], y_loss_val[i],\n",
    "                                                                    y_acc_trn[i], y_acc_val[i],\n",
    "                                                                    y_acc_test[i]))"
   ]
  },
  {
   "cell_type": "code",
   "execution_count": 22,
   "metadata": {},
   "outputs": [
    {
     "data": {
      "text/plain": [
       "<matplotlib.text.Text at 0x7fdca9b42160>"
      ]
     },
     "execution_count": 22,
     "metadata": {},
     "output_type": "execute_result"
    },
    {
     "data": {
      "image/png": "[encoded data removed]",
      "text/plain": [
       "<matplotlib.figure.Figure at 0x7fdca9b87780>"
      ]
     },
     "metadata": {},
     "output_type": "display_data"
    }
   ],
   "source": [
    "plt.rcParams[\"figure.figsize\"] = [8.0,6.0]\n",
    "\n",
    "plt.plot(x_epoch, y_loss_trn)\n",
    "plt.plot(x_epoch, y_loss_val)\n",
    "plt.legend(['Training loss', 'Validation loss'])\n",
    "plt.xlabel('Epochs')\n",
    "plt.ylabel('Loss')"
   ]
  },
  {
   "cell_type": "code",
   "execution_count": 23,
   "metadata": {},
   "outputs": [
    {
     "data": {
      "text/plain": [
       "<matplotlib.text.Text at 0x7fdca9a8b358>"
      ]
     },
     "execution_count": 23,
     "metadata": {},
     "output_type": "execute_result"
    },
    {
     "data": {
      "image/png": "[encoded data removed]",
      "text/plain": [
       "<matplotlib.figure.Figure at 0x7fdca9b874e0>"
      ]
     },
     "metadata": {},
     "output_type": "display_data"
    }
   ],
   "source": [
    "plt.rcParams[\"figure.figsize\"] = [8.0,6.0]\n",
    "\n",
    "plt.plot(x_epoch, y_acc_trn)\n",
    "plt.plot(x_epoch, y_acc_val)\n",
    "plt.legend(['Training acc', 'Validation acc', 'Test acc'])\n",
    "plt.xlabel('Epochs')\n",
    "plt.ylabel('Accuracy')"
   ]
  }
 ],
 "metadata": {
  "kernelspec": {
   "display_name": "Python 3",
   "language": "python",
   "name": "python3"
  },
  "language_info": {
   "codemirror_mode": {
    "name": "ipython",
    "version": 3
   },
   "file_extension": ".py",
   "mimetype": "text/x-python",
   "name": "python",
   "nbconvert_exporter": "python",
   "pygments_lexer": "ipython3",
   "version": "3.5.2"
  }
 },
 "nbformat": 4,
 "nbformat_minor": 2
}
