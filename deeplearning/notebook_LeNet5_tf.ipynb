{
 "cells": [
  {
   "cell_type": "code",
   "execution_count": 1,
   "metadata": {},
   "outputs": [
    {
     "name": "stdout",
     "output_type": "stream",
     "text": [
      "Extracting MNIST_data/train-images-idx3-ubyte.gz\n",
      "Extracting MNIST_data/train-labels-idx1-ubyte.gz\n",
      "Extracting MNIST_data/t10k-images-idx3-ubyte.gz\n",
      "Extracting MNIST_data/t10k-labels-idx1-ubyte.gz\n"
     ]
    }
   ],
   "source": [
    "# Step1 load MNITST data\n",
    "from tensorflow.examples.tutorials.mnist import input_data\n",
    "mnist = input_data.read_data_sets(\"MNIST_data\", one_hot=True)"
   ]
  },
  {
   "cell_type": "code",
   "execution_count": 2,
   "metadata": {
    "collapsed": true
   },
   "outputs": [],
   "source": [
    "# Start tensorflow interactiveSession\n",
    "# Tensorflow relies on a highly efficient C++ backend to do its computation. The connection to this backend\n",
    "# to this backend is called as session.\n",
    "# The common usage for Tensorflow programs is to first create a graph and then launch it in a session.\n",
    "import tensorflow as tf\n",
    "sess = tf.InteractiveSession()"
   ]
  },
  {
   "cell_type": "code",
   "execution_count": 3,
   "metadata": {
    "collapsed": true
   },
   "outputs": [],
   "source": [
    "# Build a softmax regression model\n",
    "# Placeholders\n",
    "x = tf.placeholder(tf.float32, shape=[None, 784])\n",
    "y_ = tf.placeholder(tf.float32, shape=[None, 10]) # one-hot 10-dimensional vector"
   ]
  },
  {
   "cell_type": "code",
   "execution_count": 4,
   "metadata": {
    "collapsed": true
   },
   "outputs": [],
   "source": [
    "def weight_variable(shape):\n",
    "    initial = tf.truncated_normal(shape, stddev=0.1)\n",
    "    return tf.Variable(initial)\n",
    "\n",
    "def bias_variable(shape):\n",
    "    initial = tf.constant(0.1, shape=shape)\n",
    "    return tf.Variable(initial)"
   ]
  },
  {
   "cell_type": "code",
   "execution_count": 7,
   "metadata": {
    "collapsed": true
   },
   "outputs": [],
   "source": [
    "# Convolution and pooling\n",
    "# TF gives us flexibility in convolution and pooling operations, which including how we handle the boundaries,\n",
    "# what the stride size is. \n",
    "# In this toturial, it uses a stride of one and zero padding.\n",
    "def conv2d(x, W):\n",
    "    return tf.nn.conv2d(x, W, strides=[1, 1, 1, 1], padding='VALID')\n",
    "\n",
    "def max_pool_2x2(x):\n",
    "    return tf.nn.max_pool(x, ksize=[1, 2, 2, 1], strides=[1, 2, 2, 1], padding='VALID')"
   ]
  },
  {
   "cell_type": "code",
   "execution_count": 8,
   "metadata": {
    "collapsed": true
   },
   "outputs": [],
   "source": [
    "# First convolutional layer\n",
    "# Consisting of convolution, followed by max pooling\n",
    "# 32 features for each 5x5 patch. [5, 5, 1, 32]\n",
    "# Biases are also added for each 32 channel\n",
    "W_conv1 = weight_variable([5, 5, 1, 32])\n",
    "b_conv1 = bias_variable([32])\n",
    "\n",
    "# Adjust the image\n",
    "x_image = tf.reshape(x, [-1, 28, 28, 1])\n",
    "\n",
    "# Convolve x_image with the weight tensor, add the bias, apply the ReLU runction, and max pooling.\n",
    "h_conv1 = tf.nn.relu(conv2d(x_image, W_conv1) + b_conv1)\n",
    "h_pool1 = max_pool_2x2(h_conv1)"
   ]
  },
  {
   "cell_type": "code",
   "execution_count": 9,
   "metadata": {
    "collapsed": true
   },
   "outputs": [],
   "source": [
    "# Second convolutional layer\n",
    "# 64 features for each 5x5 patch\n",
    "W_conv2 = weight_variable([5, 5, 32, 64])\n",
    "b_conv2 = bias_variable([64])\n",
    "\n",
    "h_conv2 = tf.nn.relu(conv2d(h_pool1, W_conv2) + b_conv2)\n",
    "h_pool2 = max_pool_2x2(h_conv2)"
   ]
  },
  {
   "cell_type": "code",
   "execution_count": 22,
   "metadata": {
    "collapsed": true
   },
   "outputs": [],
   "source": [
    "# Densely connected layer\n",
    "# Reshape the tensor from the pooling layer into a batch of vectors\n",
    "W_fc1 = weight_variable([4*4*64, 1024])\n",
    "b_fc1 = bias_variable([1024])\n",
    "\n",
    "h_pool2_flat = tf.reshape(h_pool2, [-1, 4*4*64])\n",
    "h_fc1 = tf.nn.relu(tf.matmul(h_pool2_flat, W_fc1) + b_fc1)"
   ]
  },
  {
   "cell_type": "code",
   "execution_count": 23,
   "metadata": {
    "collapsed": true
   },
   "outputs": [],
   "source": [
    "# Dropout \n",
    "# To reduce overfitting, we apply dropout before the readout layer.\n",
    "# Create a placeholder for the probability that a neuron's output is kept during dropout.\n",
    "keep_prob = tf.placeholder(tf.float32)\n",
    "h_fc1_drop = tf.nn.dropout(h_fc1, keep_prob)"
   ]
  },
  {
   "cell_type": "code",
   "execution_count": 24,
   "metadata": {
    "collapsed": true
   },
   "outputs": [],
   "source": [
    "# Densely connected layer\n",
    "# Reshape the tensor from the pooling layer into a batch of vectors\n",
    "W_fc2 = weight_variable([1024, 512])\n",
    "b_fc2 = bias_variable([512])\n",
    "\n",
    "h_fc2 = tf.nn.relu(tf.matmul(h_fc1_drop, W_fc2) + b_fc2)"
   ]
  },
  {
   "cell_type": "code",
   "execution_count": 25,
   "metadata": {
    "collapsed": true
   },
   "outputs": [],
   "source": [
    "# Dropout \n",
    "# To reduce overfitting, we apply dropout before the readout layer.\n",
    "# Create a placeholder for the probability that a neuron's output is kept during dropout.\n",
    "h_fc2_drop = tf.nn.dropout(h_fc2, keep_prob)"
   ]
  },
  {
   "cell_type": "code",
   "execution_count": 26,
   "metadata": {
    "collapsed": true
   },
   "outputs": [],
   "source": [
    "# Readout layer\n",
    "# Like for the sofrmax regression layer\n",
    "W_fc3 = weight_variable([512, 10])\n",
    "b_fc3 = bias_variable([10])\n",
    "\n",
    "y_conv = tf.matmul(h_fc2_drop, W_fc3) + b_fc3"
   ]
  },
  {
   "cell_type": "code",
   "execution_count": 28,
   "metadata": {},
   "outputs": [
    {
     "name": "stdout",
     "output_type": "stream",
     "text": [
      "Step 0, training accuracy 0.18\n",
      "Step 100, training accuracy 0.76\n",
      "Step 200, training accuracy 0.96\n",
      "Step 300, training accuracy 0.9\n",
      "Step 400, training accuracy 0.94\n",
      "Step 500, training accuracy 0.98\n",
      "Step 600, training accuracy 0.94\n",
      "Step 700, training accuracy 0.94\n",
      "Step 800, training accuracy 0.96\n",
      "Step 900, training accuracy 0.96\n",
      "Step 1000, training accuracy 0.96\n",
      "Step 1100, training accuracy 0.96\n",
      "Step 1200, training accuracy 1\n",
      "Step 1300, training accuracy 0.96\n",
      "Step 1400, training accuracy 0.96\n",
      "Step 1500, training accuracy 0.98\n",
      "Step 1600, training accuracy 0.92\n",
      "Step 1700, training accuracy 0.98\n",
      "Step 1800, training accuracy 0.92\n",
      "Step 1900, training accuracy 0.96\n",
      "Step 2000, training accuracy 0.98\n",
      "Step 2100, training accuracy 1\n",
      "Step 2200, training accuracy 0.94\n",
      "Step 2300, training accuracy 1\n",
      "Step 2400, training accuracy 0.98\n",
      "Step 2500, training accuracy 0.98\n",
      "Step 2600, training accuracy 1\n",
      "Step 2700, training accuracy 0.96\n",
      "Step 2800, training accuracy 0.94\n",
      "Step 2900, training accuracy 0.98\n",
      "Step 3000, training accuracy 0.96\n",
      "Step 3100, training accuracy 1\n",
      "Step 3200, training accuracy 0.94\n",
      "Step 3300, training accuracy 0.98\n",
      "Step 3400, training accuracy 0.96\n",
      "Step 3500, training accuracy 0.96\n",
      "Step 3600, training accuracy 0.96\n",
      "Step 3700, training accuracy 0.98\n",
      "Step 3800, training accuracy 1\n",
      "Step 3900, training accuracy 1\n",
      "Step 4000, training accuracy 0.98\n",
      "Step 4100, training accuracy 0.98\n",
      "Step 4200, training accuracy 1\n",
      "Step 4300, training accuracy 1\n",
      "Step 4400, training accuracy 0.94\n",
      "Step 4500, training accuracy 1\n",
      "Step 4600, training accuracy 0.96\n",
      "Step 4700, training accuracy 1\n",
      "Step 4800, training accuracy 0.98\n",
      "Step 4900, training accuracy 0.96\n",
      "Step 5000, training accuracy 0.96\n",
      "Step 5100, training accuracy 1\n",
      "Step 5200, training accuracy 1\n",
      "Step 5300, training accuracy 1\n",
      "Step 5400, training accuracy 1\n",
      "Step 5500, training accuracy 1\n",
      "Step 5600, training accuracy 0.98\n",
      "Step 5700, training accuracy 0.98\n",
      "Step 5800, training accuracy 0.98\n",
      "Step 5900, training accuracy 0.98\n",
      "test accuracy 0.9873\n"
     ]
    }
   ],
   "source": [
    "cross_entropy = tf.reduce_mean(tf.nn.softmax_cross_entropy_with_logits(y_conv, y_))\n",
    "# train_step = tf.train.AdamOptimizer(1e-4).minimize(cross_entropy)\n",
    "train_step = tf.train.GradientDescentOptimizer(learning_rate=0.02).minimize(cross_entropy)\n",
    "correct_prediction = tf.equal(tf.argmax(y_conv, 1), tf.argmax(y_, 1))\n",
    "accuracy = tf.reduce_mean(tf.cast(correct_prediction, tf.float32))\n",
    "sess.run(tf.global_variables_initializer())\n",
    "\n",
    "for i in range(6000):\n",
    "    batch = mnist.train.next_batch(50)\n",
    "    if i % 100 == 0:\n",
    "        train_accuracy = accuracy.eval(feed_dict={x: batch[0], y_: batch[1], keep_prob: 1.0})\n",
    "        print(\"Step %d, training accuracy %g\" % (i, train_accuracy))\n",
    "    train_step.run(feed_dict={x: batch[0], y_: batch[1], keep_prob: 0.5})\n",
    "\n",
    "# Final result\n",
    "print(\"test accuracy %g\" % accuracy.eval(feed_dict={x: mnist.test.images, \n",
    "                                                    y_: mnist.test.labels, \n",
    "                                                    keep_prob: 1.0}))"
   ]
  }
 ],
 "metadata": {
  "kernelspec": {
   "display_name": "Python 3",
   "language": "python",
   "name": "python3"
  },
  "language_info": {
   "codemirror_mode": {
    "name": "ipython",
    "version": 3
   },
   "file_extension": ".py",
   "mimetype": "text/x-python",
   "name": "python",
   "nbconvert_exporter": "python",
   "pygments_lexer": "ipython3",
   "version": "3.5.2"
  }
 },
 "nbformat": 4,
 "nbformat_minor": 2
}
