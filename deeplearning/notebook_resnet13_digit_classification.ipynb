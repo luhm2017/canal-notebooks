{
 "cells": [
  {
   "cell_type": "code",
   "execution_count": 1,
   "metadata": {
    "collapsed": true
   },
   "outputs": [],
   "source": [
    "# Realize ResNet for digit classification\n",
    "# Bottleneck -> Block"
   ]
  },
  {
   "cell_type": "code",
   "execution_count": 2,
   "metadata": {
    "collapsed": true
   },
   "outputs": [],
   "source": [
    "# Display the result\n",
    "import matplotlib\n",
    "matplotlib.use('Agg')\n",
    "%matplotlib inline\n",
    "import matplotlib.pyplot as plt"
   ]
  },
  {
   "cell_type": "code",
   "execution_count": 3,
   "metadata": {
    "collapsed": true
   },
   "outputs": [],
   "source": [
    "import utils\n",
    "import Block"
   ]
  },
  {
   "cell_type": "code",
   "execution_count": 4,
   "metadata": {
    "collapsed": true
   },
   "outputs": [],
   "source": [
    "import os\n",
    "import time\n",
    "import numpy as np\n",
    "import tensorflow as tf\n",
    "import tensorflow.contrib.layers as layers"
   ]
  },
  {
   "cell_type": "code",
   "execution_count": 5,
   "metadata": {},
   "outputs": [
    {
     "name": "stdout",
     "output_type": "stream",
     "text": [
      "Extracting MNIST_data/train-images-idx3-ubyte.gz\n",
      "Extracting MNIST_data/train-labels-idx1-ubyte.gz\n",
      "Extracting MNIST_data/t10k-images-idx3-ubyte.gz\n",
      "Extracting MNIST_data/t10k-labels-idx1-ubyte.gz\n"
     ]
    }
   ],
   "source": [
    "# Step1 load MNITST data\n",
    "from tensorflow.examples.tutorials.mnist import input_data\n",
    "mnist = input_data.read_data_sets(\"MNIST_data\", \n",
    "                                  one_hot=True,\n",
    "                                  validation_size=2000)"
   ]
  },
  {
   "cell_type": "code",
   "execution_count": 6,
   "metadata": {
    "collapsed": true
   },
   "outputs": [],
   "source": [
    "x = tf.placeholder(tf.float32, shape=[None,28,28,1],name='inputs')\n",
    "y_ = tf.placeholder(tf.float32, shape=[None,10],name='outputs')\n",
    "is_training = tf.placeholder(tf.bool, name='is_training')"
   ]
  },
  {
   "cell_type": "code",
   "execution_count": 7,
   "metadata": {
    "collapsed": true
   },
   "outputs": [],
   "source": [
    "# Reidual nets\n",
    "net = x\n",
    "blocks = [\n",
    "    [(64, 32, 1)]*1 + [(64, 32, 2)],\n",
    "    [(128, 64, 1)]*1 + [(128, 64, 2)],\n",
    "]\n",
    "for i, block in enumerate(blocks):\n",
    "    block_params = utils.get_block(block, is_training=is_training)\n",
    "    # build the net\n",
    "    block_obj = Block.Block(\n",
    "        inputs = net,\n",
    "        block_params = block_params,\n",
    "        is_training = is_training,\n",
    "        scope = 'block'+str(i),\n",
    "        summary_flag = True\n",
    "        )\n",
    "    net = block_obj.get_block()"
   ]
  },
  {
   "cell_type": "code",
   "execution_count": 8,
   "metadata": {
    "collapsed": true
   },
   "outputs": [],
   "source": [
    "# flattern layer\n",
    "with tf.name_scope('flattern'):\n",
    "    net = layers.flatten(net)\n",
    "    tf.summary.histogram('flattern',net)"
   ]
  },
  {
   "cell_type": "code",
   "execution_count": 9,
   "metadata": {
    "collapsed": true
   },
   "outputs": [],
   "source": [
    "# Softmax layer\n",
    "with tf.name_scope('softmax'):\n",
    "    y = layers.fully_connected(\n",
    "            net, 10, activation_fn=tf.nn.tanh)\n",
    "    tf.summary.histogram('softmax',y)"
   ]
  },
  {
   "cell_type": "code",
   "execution_count": 10,
   "metadata": {
    "collapsed": true
   },
   "outputs": [],
   "source": [
    "# loss function\n",
    "with tf.name_scope('loss'):\n",
    "    cross_entropy = tf.reduce_mean(\n",
    "        tf.nn.softmax_cross_entropy_with_logits(labels=y_, logits=y))\n",
    "    tf.summary.scalar('loss', cross_entropy)"
   ]
  },
  {
   "cell_type": "code",
   "execution_count": 11,
   "metadata": {
    "collapsed": true
   },
   "outputs": [],
   "source": [
    "# learning rate\n",
    "with tf.name_scope('learning_rate'):\n",
    "    init_lr = tf.placeholder(tf.float32, name='LR')\n",
    "    global_step = tf.placeholder(tf.float32, name=\"global_step\")\n",
    "    decay_step = tf.placeholder(tf.float32, name=\"decay_step\")\n",
    "    decay_rate = tf.placeholder(tf.float32, name=\"decay_rate\")\n",
    "    learning_rate = tf.train.exponential_decay(\n",
    "        learning_rate = init_lr ,\n",
    "        global_step = global_step,\n",
    "        decay_steps = decay_step,\n",
    "        decay_rate = decay_rate,\n",
    "        staircase=False,\n",
    "        name=None)   "
   ]
  },
  {
   "cell_type": "code",
   "execution_count": 12,
   "metadata": {},
   "outputs": [
    {
     "data": {
      "text/plain": [
       "<tf.Tensor 'accuracy_1:0' shape=() dtype=string>"
      ]
     },
     "execution_count": 12,
     "metadata": {},
     "output_type": "execute_result"
    }
   ],
   "source": [
    "# Accuracy\n",
    "with tf.name_scope('accuracy'):\n",
    "    with tf.name_scope('correct_prediction'):\n",
    "        correct_prediction = tf.equal(\n",
    "            tf.argmax(y, 1), tf.argmax(y_, 1))\n",
    "    with tf.name_scope('accuracy'):\n",
    "        accuracy = tf.reduce_mean(tf.cast(correct_prediction, tf.float32))\n",
    "tf.summary.scalar('accuracy', accuracy)"
   ]
  },
  {
   "cell_type": "code",
   "execution_count": 13,
   "metadata": {
    "collapsed": true
   },
   "outputs": [],
   "source": [
    "# Merge all the summaries and write to logdir\n",
    "logdir = './log'\n",
    "if not os.path.exists(logdir):\n",
    "    os.mkdir(logdir)\n",
    "merged = tf.summary.merge_all()\n",
    "# Initialize the variables\n",
    "sess = tf.InteractiveSession()\n",
    "sess.run(tf.global_variables_initializer())\n",
    "train_writer = tf.summary.FileWriter(logdir + '/train',\n",
    "                                      sess.graph)\n",
    "val_writer = tf.summary.FileWriter(logdir + '/validation',\n",
    "                                   sess.graph)\n",
    "test_writer = tf.summary.FileWriter(logdir + '/test',\n",
    "                                   sess.graph)"
   ]
  },
  {
   "cell_type": "code",
   "execution_count": 14,
   "metadata": {
    "collapsed": true
   },
   "outputs": [],
   "source": [
    "def feed_dict(train,batchsize=100,drop=0.5, lr_dict=None):\n",
    "    \"\"\"Make a TensorFlow feed_dict: maps data onto Tensor placeholders.\"\"\"\n",
    "    if train:\n",
    "        xs, ys = mnist.train.next_batch(batchsize)\n",
    "        f_dict = {x: xs.reshape([-1,28,28,1]), y_: ys, \n",
    "                  is_training: True}\n",
    "        f_dict.update(lr_dict)\n",
    "    else:    \n",
    "        # validation\n",
    "        x_val,y_val = mnist.validation.images,mnist.validation.labels\n",
    "        f_dict = {x: x_val.reshape([-1,28,28,1]),y_: y_val,\n",
    "                  is_training: False}\n",
    "    return f_dict"
   ]
  },
  {
   "cell_type": "code",
   "execution_count": 15,
   "metadata": {
    "collapsed": true
   },
   "outputs": [],
   "source": [
    "def test_dict():\n",
    "    xs, ys = mnist.test.images, mnist.test.labels\n",
    "    f_dict = {x: xs.reshape([-1, 28, 28, 1]), y_: ys, \n",
    "              is_training: False}\n",
    "    return f_dict"
   ]
  },
  {
   "cell_type": "code",
   "execution_count": 16,
   "metadata": {
    "collapsed": true
   },
   "outputs": [],
   "source": [
    "# Train step \n",
    "# note: should add update_ops to the train graph\n",
    "update_ops = tf.get_collection(tf.GraphKeys.UPDATE_OPS)\n",
    "with tf.control_dependencies(update_ops):\n",
    "    with tf.name_scope('train'):\n",
    "        train_step = tf.train.GradientDescentOptimizer(learning_rate).minimize(cross_entropy) "
   ]
  },
  {
   "cell_type": "code",
   "execution_count": 17,
   "metadata": {},
   "outputs": [
    {
     "name": "stdout",
     "output_type": "stream",
     "text": [
      "[2018-01-27: 00:04:02]: Epochs    Trn_loss    Val_loss    Trn_acc    Val_acc    Test_acc\n",
      "[2018-01-27: 00:04:54]: 0    1.8370    1.2844    0.6221    0.8040    0.8231\n",
      "[2018-01-27: 00:13:19]: 10    0.9414    0.9428    0.9313    0.9325    0.9343\n",
      "[2018-01-27: 00:21:45]: 20    0.8765    0.8871    0.9617    0.9570    0.9617\n",
      "[2018-01-27: 00:30:12]: 30    0.8571    0.8653    0.9700    0.9685    0.9715\n",
      "[2018-01-27: 00:38:38]: 40    0.8482    0.8586    0.9737    0.9690    0.9742\n",
      "[2018-01-27: 00:47:07]: 50    0.8411    0.8523    0.9792    0.9770    0.9779\n",
      "[2018-01-27: 00:55:34]: 60    0.8371    0.8457    0.9802    0.9785    0.9820\n",
      "[2018-01-27: 01:04:00]: 70    0.8309    0.8556    0.9831    0.9720    0.9786\n",
      "[2018-01-27: 01:12:24]: 80    0.8288    0.8426    0.9834    0.9835    0.9837\n",
      "[2018-01-27: 01:20:49]: 90    0.8254    0.8413    0.9850    0.9815    0.9840\n"
     ]
    }
   ],
   "source": [
    "# Training the model by repeatedly running train_step\n",
    "import time \n",
    "epochs = 100\n",
    "batchsize= 100\n",
    "# num_batches = mnist.train.images.shape[0] // batchsize\n",
    "num_batches = 200\n",
    "\n",
    "lr_init = 0.01\n",
    "d_rate = 0.9\n",
    "\n",
    "x_epoch = np.arange(0,epochs,1)\n",
    "y_loss_trn = np.zeros(x_epoch.shape)\n",
    "y_acc_trn = np.zeros(x_epoch.shape)\n",
    "y_loss_val = np.zeros(x_epoch.shape)\n",
    "y_acc_val = np.zeros(x_epoch.shape)\n",
    "y_acc_test = np.zeros(x_epoch.shape)\n",
    "\n",
    "# Init all variables\n",
    "timestamp = time.strftime('%Y-%m-%d: %H:%M:%S', time.localtime(time.time()))\n",
    "print(\"[%s]: Epochs    Trn_loss    Val_loss    Trn_acc    Val_acc    Test_acc\" % (timestamp))\n",
    "for i in range(epochs):\n",
    "    lr_dict = {init_lr: lr_init, global_step:i,\n",
    "               decay_step: i, decay_step: batchsize,\n",
    "               decay_rate: d_rate}\n",
    "    loss_trn_all = 0.0\n",
    "    acc_trn_all = 0.0\n",
    "    for b in range(num_batches):\n",
    "        train_dict = feed_dict(True,lr_dict=lr_dict)\n",
    "        # train\n",
    "        summary_trn, _, acc_trn, loss_trn = sess.run(\n",
    "            [merged, train_step, accuracy, cross_entropy], \n",
    "            feed_dict=train_dict)\n",
    "        loss_trn_all += loss_trn\n",
    "        acc_trn_all += acc_trn\n",
    "    \n",
    "    y_loss_trn[i] = loss_trn_all / num_batches\n",
    "    y_acc_trn[i] = acc_trn_all / num_batches\n",
    "    train_writer.add_summary(summary_trn, i)\n",
    "    # validation\n",
    "    val_dict = feed_dict(False)\n",
    "    summary_val, y_acc_val[i], y_loss_val[i] = sess.run(\n",
    "        [merged, accuracy, cross_entropy],feed_dict=val_dict)\n",
    "    val_writer.add_summary(summary_val, i)\n",
    "    summary, y_acc_test[i] = sess.run(\n",
    "        [merged, accuracy],feed_dict=test_dict())\n",
    "    test_writer.add_summary(summary, i)\n",
    "    if i % 10 == 0:\n",
    "        timestamp = time.strftime('%Y-%m-%d: %H:%M:%S', time.localtime(time.time()))\n",
    "        print('[%s]: %d    %.4f    %.4f    %.4f    %.4f    %.4f' % (timestamp, i, \n",
    "                                                                    y_loss_trn[i], y_loss_val[i],\n",
    "                                                                    y_acc_trn[i], y_acc_val[i],\n",
    "                                                                    y_acc_test[i]))"
   ]
  },
  {
   "cell_type": "code",
   "execution_count": 18,
   "metadata": {},
   "outputs": [
    {
     "data": {
      "text/plain": [
       "<matplotlib.text.Text at 0x7ff80c1ff2e8>"
      ]
     },
     "execution_count": 18,
     "metadata": {},
     "output_type": "execute_result"
    },
    {
     "data": {
      "image/png": "[encoded data removed]",
      "text/plain": [
       "<matplotlib.figure.Figure at 0x7ff80c248c50>"
      ]
     },
     "metadata": {},
     "output_type": "display_data"
    }
   ],
   "source": [
    "plt.rcParams[\"figure.figsize\"] = [8.0,6.0]\n",
    "\n",
    "plt.plot(x_epoch, y_loss_trn)\n",
    "plt.plot(x_epoch, y_loss_val)\n",
    "plt.legend(['Training loss', 'Validation loss'])\n",
    "plt.xlabel('Epochs')\n",
    "plt.ylabel('Loss')"
   ]
  },
  {
   "cell_type": "code",
   "execution_count": 19,
   "metadata": {},
   "outputs": [
    {
     "data": {
      "text/plain": [
       "<matplotlib.text.Text at 0x7ff80b493ef0>"
      ]
     },
     "execution_count": 19,
     "metadata": {},
     "output_type": "execute_result"
    },
    {
     "data": {
      "image/png": "[encoded data removed]",
      "text/plain": [
       "<matplotlib.figure.Figure at 0x7ff80c162ba8>"
      ]
     },
     "metadata": {},
     "output_type": "display_data"
    }
   ],
   "source": [
    "plt.rcParams[\"figure.figsize\"] = [8.0,6.0]\n",
    "\n",
    "plt.plot(x_epoch, y_acc_trn)\n",
    "plt.plot(x_epoch, y_acc_val)\n",
    "plt.legend(['Training acc', 'Validation acc', 'Test acc'])\n",
    "plt.xlabel('Epochs')\n",
    "plt.ylabel('Accuracy')"
   ]
  }
 ],
 "metadata": {
  "kernelspec": {
   "display_name": "Python 3",
   "language": "python",
   "name": "python3"
  },
  "language_info": {
   "codemirror_mode": {
    "name": "ipython",
    "version": 3
   },
   "file_extension": ".py",
   "mimetype": "text/x-python",
   "name": "python",
   "nbconvert_exporter": "python",
   "pygments_lexer": "ipython3",
   "version": "3.5.2"
  }
 },
 "nbformat": 4,
 "nbformat_minor": 2
}
